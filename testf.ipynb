{
 "cells": [
  {
   "cell_type": "code",
   "execution_count": 4,
   "id": "7e73e839-346e-4b23-8c54-29aea45553d2",
   "metadata": {},
   "outputs": [],
   "source": [
    "from LNC import get_dln"
   ]
  },
  {
   "cell_type": "code",
   "execution_count": 5,
   "id": "2460a8d0-1b86-4d54-b16d-284cd42509fc",
   "metadata": {},
   "outputs": [
    {
     "data": {
      "text/plain": [
       "[112, 111, 111, 111, 111, 111, 111, 111, 111]"
      ]
     },
     "execution_count": 5,
     "metadata": {},
     "output_type": "execute_result"
    }
   ],
   "source": [
    "get_dln(range(1001))"
   ]
  },
  {
   "cell_type": "code",
   "execution_count": null,
   "id": "db57ad5f-a494-4aa4-a3d6-78bc2c1c4e50",
   "metadata": {},
   "outputs": [],
   "source": []
  }
 ],
 "metadata": {
  "kernelspec": {
   "display_name": "Python 3",
   "language": "python",
   "name": "python3"
  },
  "language_info": {
   "codemirror_mode": {
    "name": "ipython",
    "version": 3
   },
   "file_extension": ".py",
   "mimetype": "text/x-python",
   "name": "python",
   "nbconvert_exporter": "python",
   "pygments_lexer": "ipython3",
   "version": "3.9.2"
  }
 },
 "nbformat": 4,
 "nbformat_minor": 5
}
