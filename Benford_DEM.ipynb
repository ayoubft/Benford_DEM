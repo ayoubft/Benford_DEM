{
 "cells": [
  {
   "cell_type": "code",
   "execution_count": null,
   "id": "704ded79-e3c4-4a2c-8b5b-79cd6b71a83d",
   "metadata": {},
   "outputs": [],
   "source": []
  },
  {
   "cell_type": "markdown",
   "id": "daa8eecc-8b11-405e-8d3c-61b8d6b42baf",
   "metadata": {},
   "source": [
    "## This notebook is inspired from this paper: *[Application de la loi de Benford au contrôle de qualité des modèles numériques de terrain](https://www.researchgate.net/publication/331580669_Application_de_la_loi_de_Benford_au_controle_de_qualite_des_modeles_numeriques_de_terrain)*"
   ]
  },
  {
   "cell_type": "markdown",
   "id": "f64c6e80-29b3-456d-b02d-585d8314c7ab",
   "metadata": {},
   "source": [
    "<div>\n",
    "<img src=\"img/Simon_Newcomb_.jpg\" width=200 height=160 alt=\"Shrouded\" />\n",
    "    \n",
    "<img src=\"img/frank_benford.jpeg\" width=200 height=150 alt=\"Shrouded\" />\n",
    "</div>"
   ]
  },
  {
   "cell_type": "markdown",
   "id": "e2aa0220-0770-4f89-a74b-d089249de75d",
   "metadata": {},
   "source": [
    "**La loi de Benford**, également appelée **loi de Newcomb-Benford**, **loi des nombres anormaux** ou **loi du premier chiffre**, est une observation sur \n",
    "la distribution de fréquence des chiffres de tête dans de nombreux ensembles de données numériques de la vie réelle. La loi stipule que \n",
    "dans de nombreux ensembles de nombres naturels, le premier chiffre a tendance à être petit. Dans les ensembles qui obéissent à cette \n",
    "loi, le chiffre 1 apparaît comme le premier chiffre significatif environ 30 % du temps, tandis que le chiffre 9 apparaît comme le \n",
    "premier chiffre significatif moins de 5 % du temps. Si les chiffres étaient distribués uniformément, ils apparaîtraient chacun \n",
    "environ 11,1 % du temps. La loi de Benford permet également de prédire la distribution des chiffres de poids fort, des chiffres \n",
    "de poids faible, des combinaisons de chiffres, etc.\n",
    "\n"
   ]
  },
  {
   "attachments": {
    "f1fe7cac-ac0c-49eb-b3cc-89e9a3fa0de1.png": {
     "image/png": "[encoded data removed]"
    }
   },
   "cell_type": "markdown",
   "id": "15142c4d-3ab6-418b-b93a-68eea137b284",
   "metadata": {},
   "source": [
    "## Benford’s Law Distribution\n",
    "\n",
    "![image.png](attachment:f1fe7cac-ac0c-49eb-b3cc-89e9a3fa0de1.png)"
   ]
  },
  {
   "cell_type": "markdown",
   "id": "37375700-3817-4867-a2fd-542a7dea44cb",
   "metadata": {},
   "source": [
    "# Study case 0:"
   ]
  },
  {
   "cell_type": "code",
   "execution_count": 1,
   "id": "68dc5ff9-36ed-4ad4-be39-0fde6b7e8e89",
   "metadata": {},
   "outputs": [
    {
     "ename": "SyntaxError",
     "evalue": "non-default argument follows default argument (LNC.py, line 69)",
     "output_type": "error",
     "traceback": [
      "Traceback \u001b[0;36m(most recent call last)\u001b[0m:\n",
      "  File \u001b[1;32m\"/home/ayoub/miniconda3/envs/envDataSci/lib/python3.9/site-packages/IPython/core/interactiveshell.py\"\u001b[0m, line \u001b[1;32m3437\u001b[0m, in \u001b[1;35mrun_code\u001b[0m\n    exec(code_obj, self.user_global_ns, self.user_ns)\n",
      "\u001b[0;36m  File \u001b[0;32m\"<ipython-input-1-cf7b627e9a3f>\"\u001b[0;36m, line \u001b[0;32m5\u001b[0;36m, in \u001b[0;35m<module>\u001b[0;36m\u001b[0m\n\u001b[0;31m    from LNC import *\u001b[0m\n",
      "\u001b[0;36m  File \u001b[0;32m\"/home/ayoub/Benford_DEM/LNC.py\"\u001b[0;36m, line \u001b[0;32m69\u001b[0m\n\u001b[0;31m    ff2):\u001b[0m\n\u001b[0m    ^\u001b[0m\n\u001b[0;31mSyntaxError\u001b[0m\u001b[0;31m:\u001b[0m non-default argument follows default argument\n"
     ]
    }
   ],
   "source": [
    "# IMPORTING LIBRARIES\n",
    "import numpy as np\n",
    "import matplotlib.pyplot as plt\n",
    "import rasterio\n",
    "from LNC import *"
   ]
  },
  {
   "cell_type": "code",
   "execution_count": null,
   "id": "707bee62-8d77-4c35-84e2-af216cc3b3cd",
   "metadata": {},
   "outputs": [],
   "source": [
    "# Load DEM\n",
    "dem = rasterio.open('tifs/madeenah.tif')\n",
    "\n",
    "# Load aspect (slope)\n",
    "asp = rasterio.open('tifs/madeenah_aspect.tif')"
   ]
  },
  {
   "cell_type": "code",
   "execution_count": null,
   "id": "e62d9898-4b02-44a6-b71a-2b19c379ae1e",
   "metadata": {},
   "outputs": [],
   "source": [
    "print(\"\\nDEM\\n\")\n",
    "print(dem.profile)\n",
    "print(\"\\nASPECT\\n\")\n",
    "print(asp.profile)"
   ]
  },
  {
   "cell_type": "code",
   "execution_count": null,
   "id": "608f85ae-7be7-4779-8d3e-457218dc7d9f",
   "metadata": {},
   "outputs": [],
   "source": [
    "# reading the first band (not from zero!)\n",
    "band1 = dem.read(1)"
   ]
  },
  {
   "cell_type": "code",
   "execution_count": null,
   "id": "3524f2d9-5ebb-4e60-925f-1eda45882b33",
   "metadata": {},
   "outputs": [],
   "source": [
    "# Preview of the \n",
    "band1"
   ]
  },
  {
   "cell_type": "code",
   "execution_count": null,
   "id": "33a9649a-1c67-4362-bf57-14b7986b9616",
   "metadata": {},
   "outputs": [],
   "source": [
    "band1 = band1.flatten()"
   ]
  },
  {
   "cell_type": "code",
   "execution_count": null,
   "id": "ebeb1aaa-a7c5-4cba-9bf2-9126451b743f",
   "metadata": {},
   "outputs": [],
   "source": [
    "f1 = get_dln(band1)"
   ]
  },
  {
   "cell_type": "code",
   "execution_count": null,
   "id": "b8282063-2e03-4086-98ef-2a04e7b8b3c7",
   "metadata": {},
   "outputs": [],
   "source": [
    "n = sum(f1)\n",
    "ff1 = []\n",
    "for i in range(len(f1)):\n",
    "    ff1.append(100*f1[i]/n)\n"
   ]
  },
  {
   "cell_type": "code",
   "execution_count": null,
   "id": "67f5bc3e-f248-4151-8001-dce301649329",
   "metadata": {},
   "outputs": [],
   "source": [
    "f_lnd(f1)"
   ]
  },
  {
   "cell_type": "code",
   "execution_count": null,
   "id": "24de6f0f-6275-4b31-9282-69d6313e52b1",
   "metadata": {},
   "outputs": [],
   "source": []
  },
  {
   "cell_type": "code",
   "execution_count": null,
   "id": "cd55f71b-2dd6-4aec-a235-2f4d7d5a93c0",
   "metadata": {},
   "outputs": [],
   "source": [
    "# reading the first band (not from zero!)\n",
    "band2 = asp.read(1) # 2d array"
   ]
  },
  {
   "cell_type": "code",
   "execution_count": null,
   "id": "21714490-9f86-4d42-853c-eeabc2c95c40",
   "metadata": {},
   "outputs": [],
   "source": [
    "band2 = band2.flatten()"
   ]
  },
  {
   "cell_type": "code",
   "execution_count": null,
   "id": "f83bb148-280a-4ce4-996c-0869bccb7151",
   "metadata": {},
   "outputs": [],
   "source": [
    "f2 = get_dln(band2)"
   ]
  },
  {
   "cell_type": "code",
   "execution_count": null,
   "id": "5f4bfa4f-89ea-4d0b-9551-dbe50d7b2f82",
   "metadata": {},
   "outputs": [],
   "source": [
    "n2 = sum(f2)\n",
    "ff2 = []\n",
    "for i in range(len(f2)):\n",
    "    ff2.append(100*f2[i]/n2)\n"
   ]
  },
  {
   "cell_type": "code",
   "execution_count": null,
   "id": "10d7aca5-1286-4b67-a8fc-f621600b8ff8",
   "metadata": {},
   "outputs": [],
   "source": [
    "f_lnd(f2)"
   ]
  },
  {
   "cell_type": "code",
   "execution_count": 19,
   "id": "e23faac0-8c86-4eef-b19c-91f5a2323a26",
   "metadata": {},
   "outputs": [],
   "source": [
    "X = list(range(1,  10))\n",
    "\n",
    "B = [30.1, 17.6, 12.5, 9.7, 7.9, 6.7, 5.8, 5.1, 4.6]"
   ]
  },
  {
   "cell_type": "code",
   "execution_count": 35,
   "id": "47807aae-f570-485b-8bae-cd9007f8a7df",
   "metadata": {},
   "outputs": [],
   "source": [
    "    \n",
    "def plottingfunc(X, B, ff1, ff2):    \n",
    "    # Plotting both the curves simultaneously\n",
    "    plt.figure(figsize=(15, 12))\n",
    "    plt.plot(X, B, color='r', label='Benford')\n",
    "    plt.plot(X, ff1, color='g', label='DEM')\n",
    "    plt.plot(X, ff2, color='b', label='ASPECT')\n",
    "\n",
    "    # Naming the x-axis, y-axis and the whole graph\n",
    "    plt.xlabel(\"Leading Digit\", fontsize=20)\n",
    "    plt.xticks(fontsize = 22)\n",
    "    plt.ylabel(\"%\", fontsize=20)\n",
    "    plt.yticks(fontsize = 22)\n",
    "    plt.title(\"Leading Digits Distributions\", fontsize=28)\n",
    "\n",
    "    # Adding legend, which helps us recognize the curve according to it's color\n",
    "    plt.legend(fontsize=18)\n",
    "\n",
    "    # To load the display window\n",
    "    plt.show()\n",
    "    \n",
    "    return 0"
   ]
  },
  {
   "cell_type": "code",
   "execution_count": 41,
   "id": "746a3752-24f5-4168-b75b-57f3c21dbb29",
   "metadata": {},
   "outputs": [
    {
     "ename": "NameError",
     "evalue": "name 'plot_benford' is not defined",
     "output_type": "error",
     "traceback": [
      "\u001b[0;31m---------------------------------------------------------------------------\u001b[0m",
      "\u001b[0;31mNameError\u001b[0m                                 Traceback (most recent call last)",
      "\u001b[0;32m<ipython-input-41-1ae6efa73af7>\u001b[0m in \u001b[0;36m<module>\u001b[0;34m\u001b[0m\n\u001b[0;32m----> 1\u001b[0;31m \u001b[0mplot_benford\u001b[0m\u001b[0;34m(\u001b[0m\u001b[0mX\u001b[0m\u001b[0;34m,\u001b[0m \u001b[0mB\u001b[0m\u001b[0;34m,\u001b[0m \u001b[0mff1\u001b[0m\u001b[0;34m,\u001b[0m \u001b[0mff2\u001b[0m\u001b[0;34m)\u001b[0m\u001b[0;34m\u001b[0m\u001b[0;34m\u001b[0m\u001b[0m\n\u001b[0m",
      "\u001b[0;31mNameError\u001b[0m: name 'plot_benford' is not defined"
     ]
    }
   ],
   "source": [
    "plot_benford(X, B, ff1, ff2)"
   ]
  },
  {
   "cell_type": "code",
   "execution_count": 19,
   "id": "b0a10fae-b240-4ab8-bcfa-8eec8aedbb95",
   "metadata": {},
   "outputs": [
    {
     "data": {
      "image/png": "[encoded data removed]",
      "text/plain": [
       "<Figure size 1080x864 with 1 Axes>"
      ]
     },
     "metadata": {
      "needs_background": "light"
     },
     "output_type": "display_data"
    }
   ],
   "source": [
    "N = 9\n",
    "ind = np.arange(N) \n",
    "width = 0.25\n",
    "\n",
    "plt.figure(figsize=(15, 12))\n",
    "\n",
    "bar1 = plt.bar(ind, B, width, color = 'r')\n",
    "\n",
    "bar2 = plt.bar(ind+width, ff1, width, color='g')\n",
    "  \n",
    "bar3 = plt.bar(ind+width*2, ff2, width, color = 'b')\n",
    "  \n",
    "plt.xlabel(\"Digits\")\n",
    "plt.ylabel('%')\n",
    "plt.title(\"Leading Digits Count\")\n",
    "  \n",
    "plt.xticks(ind+width,['1', '2', '3', '4', '5', '6', '7', '8', '9'])\n",
    "plt.legend( (bar1, bar2, bar3), ('Benford', 'DEM', 'ASPECT') )\n",
    "plt.show()"
   ]
  },
  {
   "cell_type": "code",
   "execution_count": null,
   "id": "9f3c0764-8635-416e-ae52-9fbd414f85ea",
   "metadata": {},
   "outputs": [],
   "source": []
  }
 ],
 "metadata": {
  "kernelspec": {
   "display_name": "Python 3",
   "language": "python",
   "name": "python3"
  },
  "language_info": {
   "codemirror_mode": {
    "name": "ipython",
    "version": 3
   },
   "file_extension": ".py",
   "mimetype": "text/x-python",
   "name": "python",
   "nbconvert_exporter": "python",
   "pygments_lexer": "ipython3",
   "version": "3.9.2"
  }
 },
 "nbformat": 4,
 "nbformat_minor": 5
}
