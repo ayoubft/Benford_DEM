{
 "cells": [
  {
   "cell_type": "code",
   "execution_count": 1,
   "id": "7e73e839-346e-4b23-8c54-29aea45553d2",
   "metadata": {},
   "outputs": [],
   "source": [
    "from LNC import get_dln, f_lnd"
   ]
  },
  {
   "cell_type": "code",
   "execution_count": 2,
   "id": "2460a8d0-1b86-4d54-b16d-284cd42509fc",
   "metadata": {},
   "outputs": [
    {
     "data": {
      "text/plain": [
       "[112, 111, 111, 111, 111, 111, 111, 111, 111]"
      ]
     },
     "execution_count": 2,
     "metadata": {},
     "output_type": "execute_result"
    }
   ],
   "source": [
    "get_dln(range(1001))"
   ]
  },
  {
   "cell_type": "code",
   "execution_count": 3,
   "id": "75603061-6c71-41b5-bc62-cfa8c1af981c",
   "metadata": {},
   "outputs": [
    {
     "name": "stdout",
     "output_type": "stream",
     "text": [
      "1  | 0.112\n",
      "2  | 0.111\n",
      "3  | 0.111\n",
      "4  | 0.111\n",
      "5  | 0.111\n",
      "6  | 0.111\n",
      "7  | 0.111\n",
      "8  | 0.111\n",
      "9  | 0.111\n"
     ]
    },
    {
     "data": {
      "text/plain": [
       "0"
      ]
     },
     "execution_count": 3,
     "metadata": {},
     "output_type": "execute_result"
    }
   ],
   "source": [
    "f_lnd(get_dln(range(1001)))"
   ]
  },
  {
   "cell_type": "code",
   "execution_count": null,
   "id": "db57ad5f-a494-4aa4-a3d6-78bc2c1c4e50",
   "metadata": {},
   "outputs": [],
   "source": []
  }
 ],
 "metadata": {
  "kernelspec": {
   "display_name": "Python 3",
   "language": "python",
   "name": "python3"
  },
  "language_info": {
   "codemirror_mode": {
    "name": "ipython",
    "version": 3
   },
   "file_extension": ".py",
   "mimetype": "text/x-python",
   "name": "python",
   "nbconvert_exporter": "python",
   "pygments_lexer": "ipython3",
   "version": "3.9.2"
  }
 },
 "nbformat": 4,
 "nbformat_minor": 5
}
