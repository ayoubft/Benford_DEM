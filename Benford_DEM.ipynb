{
 "cells": [
  {
   "cell_type": "markdown",
   "id": "2ddf369a-359f-40bc-a3c4-a23ef98e019c",
   "metadata": {},
   "source": [
    "<center>\n",
    "    <h1>\n",
    "        Application of Benford's law to quality control of digital terrain models\n",
    "    </h1>\n",
    "</center>\n",
    "<center>\n",
    "    <h1>\n",
    "        Application de la loi de Benford au contrôle de qualité des modèles numériques de terrain\n",
    "    </h1>\n",
    "    \n",
    "    <h2>\n",
    "            Authors: FATIHI Ayoub & KECHNA Mehdi\n",
    "    </h2>\n",
    "</center>"
   ]
  },
  {
   "cell_type": "markdown",
   "id": "daa8eecc-8b11-405e-8d3c-61b8d6b42baf",
   "metadata": {},
   "source": [
    "### This notebook is inspired from this paper: *[Application de la loi de Benford au contrôle de qualité des modèles numériques de terrain](https://www.researchgate.net/publication/331580669_Application_de_la_loi_de_Benford_au_controle_de_qualite_des_modeles_numeriques_de_terrain)*"
   ]
  },
  {
   "cell_type": "markdown",
   "id": "f64c6e80-29b3-456d-b02d-585d8314c7ab",
   "metadata": {},
   "source": [
    "<center>\n",
    "<div>\n",
    "<img src=\"img/Simon_Newcomb_.jpg\" width=200 height=160 alt=\"Shrouded\" />\n",
    "<img src=\"img/frank_benford.jpeg\" width=200 height=150 alt=\"Shrouded\" />\n",
    "</div>\n",
    "</center>"
   ]
  },
  {
   "cell_type": "markdown",
   "id": "e2aa0220-0770-4f89-a74b-d089249de75d",
   "metadata": {},
   "source": [
    "(Fr) **La loi de Benford**, également appelée **loi de Newcomb-Benford**, **loi des nombres anormaux** ou **loi du premier chiffre**, est une observation sur la distribution de fréquence des chiffres de tête dans de nombreux ensembles de données numériques de la vie réelle. La loi stipule que dans de nombreux ensembles de nombres naturels, le premier chiffre a tendance à être petit. Dans les ensembles qui obéissent à cette loi, le chiffre 1 apparaît comme le premier chiffre significatif environ 30 % du temps, tandis que le chiffre 9 apparaît comme le premier chiffre significatif moins de 5 % du temps. Si les chiffres étaient distribués uniformément, ils apparaîtraient chacun environ 11,1 % du temps. La loi de Benford permet également de prédire la distribution des chiffres de poids fort, des chiffres de poids faible, des combinaisons de chiffres, etc.\n",
    "\n",
    "---\n",
    "\n",
    "**Benford's law**, also called the **Newcomb–Benford law**, the **law of anomalous numbers**, or the **first-digit law**, is an observation about the frequency distribution of leading digits in many real-life sets of numerical data. The law states that in many naturally occurring collections of numbers, the leading digit is likely to be small. In sets that obey the law, the number 1 appears as the leading significant digit about 30 % of the time, while 9 appears as the leading significant digit less than 5 % of the time. If the digits were distributed uniformly, they would each occur about 11.1 % of the time. Benford's law also makes predictions about the distribution of second digits, third digits, digit combinations, and so on.\n",
    "\n",
    "[Reference](https://www.wikiwand.com/en/Benford%27s_law)"
   ]
  },
  {
   "cell_type": "markdown",
   "id": "15142c4d-3ab6-418b-b93a-68eea137b284",
   "metadata": {},
   "source": [
    "## Benford’s Law Distribution\n",
    "<center>\n",
    "    \n",
    "    <img src=\"img/benford.png\" alt=\"benford line\" />\n",
    "    \n",
    "    <img src=\"img/Rozklad_benforda.png\" alt=\"benford table\" />\n",
    "    \n",
    "</center>"
   ]
  },
  {
   "cell_type": "code",
   "execution_count": null,
   "id": "29cce5c5-b52d-409f-a70c-44bc0dcae2b4",
   "metadata": {},
   "outputs": [],
   "source": [
    "# IMPORTING LIBRARIES\n",
    "import numpy as np\n",
    "import matplotlib.pyplot as plt\n",
    "import rasterio\n",
    "from rasterio.plot import show, show_hist\n",
    "from LNC import *"
   ]
  },
  {
   "cell_type": "markdown",
   "id": "37375700-3817-4867-a2fd-542a7dea44cb",
   "metadata": {},
   "source": [
    "# Study case 0: DEM of BeniMellal Khenifra Region"
   ]
  },
  {
   "cell_type": "code",
   "execution_count": null,
   "id": "d49a6615-d8d7-465d-a965-906513cb026b",
   "metadata": {},
   "outputs": [],
   "source": [
    "# Load DEM\n",
    "dem = rasterio.open('tifs/demBK.tif')\n",
    "\n",
    "# Load slope\n",
    "slp = rasterio.open('tifs/demBK_slope.tif')\n",
    "\n",
    "# Load aspect \n",
    "asp = rasterio.open('tifs/demBK_aspect.tif')"
   ]
  },
  {
   "cell_type": "markdown",
   "id": "005c6c58-a174-4213-bc5a-67e0a258a3e1",
   "metadata": {},
   "source": [
    "## The raster"
   ]
  },
  {
   "cell_type": "code",
   "execution_count": null,
   "id": "52c423ac-aec0-4f8c-8750-1f6e7b610d10",
   "metadata": {
    "tags": []
   },
   "outputs": [],
   "source": [
    "plt.figure(figsize=(15, 12))\n",
    "plt.axis('off')\n",
    "show(dem, cmap='magma');"
   ]
  },
  {
   "cell_type": "markdown",
   "id": "3e00a41a-0ac2-4518-aa1c-b24ea6abb04c",
   "metadata": {},
   "source": [
    "## The histogram"
   ]
  },
  {
   "cell_type": "code",
   "execution_count": null,
   "id": "0d42e899-ee90-4f4a-ac4d-a9b73a114e9b",
   "metadata": {},
   "outputs": [],
   "source": [
    "fig, axhist = plt.subplots(1, 1, figsize=(10, 9))\n",
    "\n",
    "show_hist(dem, bins=50, lw=0.0, stacked=False, \n",
    "          alpha=0.3,\n",
    "          title=\"DEM Histogram\", ax=axhist)\n",
    "axhist.get_legend().remove()"
   ]
  },
  {
   "cell_type": "code",
   "execution_count": null,
   "id": "e62d9898-4b02-44a6-b71a-2b19c379ae1e",
   "metadata": {},
   "outputs": [],
   "source": [
    " print(\"\\nDEM\\n\")\n",
    " print(dem.profile)\n",
    " print(\"\\nSLOPE\\n\")\n",
    " print(slp.profile)\n",
    " print(\"\\nASPECT\\n\")\n",
    " print(asp.profile)"
   ]
  },
  {
   "cell_type": "code",
   "execution_count": null,
   "id": "dd7c474c-2146-4bc6-9555-799622d637f6",
   "metadata": {},
   "outputs": [],
   "source": [
    "# Reading the first band (not from zero!) of the dem\n",
    "band1 = dem.read(1).flatten()\n",
    "\n",
    "f1 = get_dln(band1)\n",
    "\n",
    "n = sum(f1)\n",
    "ff1 = []\n",
    "for i in range(len(f1)):\n",
    "    ff1.append(100*f1[i]/n)\n",
    "\n",
    "\n",
    "f_lnd(f1)"
   ]
  },
  {
   "cell_type": "code",
   "execution_count": null,
   "id": "6c624fb5-c062-4788-8f8f-8a8114e8fc1d",
   "metadata": {},
   "outputs": [],
   "source": [
    "# Reading the first band (not from zero!) of the slope\n",
    "band2 = slp.read(1).flatten() # 2d array\n",
    "\n",
    "f2 = get_dln(band2)\n",
    "\n",
    "n2 = sum(f2)\n",
    "ff2 = []\n",
    "for i in range(len(f2)):\n",
    "    ff2.append(100*f2[i]/n2)\n",
    "\n",
    "\n",
    "f_lnd(f2)"
   ]
  },
  {
   "cell_type": "code",
   "execution_count": null,
   "id": "ce5b11ea-ee8f-41e6-879a-009fdfe283a4",
   "metadata": {},
   "outputs": [],
   "source": [
    "# Reading the first band (not from zero!) of the aspect\n",
    "band3 = asp.read(1).flatten() # 2d array\n",
    "\n",
    "f3 = get_dln(band3)\n",
    "\n",
    "n3 = sum(f3)\n",
    "ff3 = []\n",
    "for i in range(len(f3)):\n",
    "    ff3.append(100*f3[i]/n3)\n",
    "\n",
    "\n",
    "f_lnd(f3)"
   ]
  },
  {
   "cell_type": "code",
   "execution_count": null,
   "id": "746a3752-24f5-4168-b75b-57f3c21dbb29",
   "metadata": {},
   "outputs": [],
   "source": [
    "plot_benford(ff1, ff2, ff3);"
   ]
  },
  {
   "cell_type": "markdown",
   "id": "fd5ae165-1502-4b6b-8a97-6beec71c9dd7",
   "metadata": {},
   "source": [
    "# Study case 1: DEM of Carrier (issu par drone)"
   ]
  },
  {
   "cell_type": "code",
   "execution_count": null,
   "id": "5f9e61c0-65d6-42b7-aeb7-3b2c66aa9298",
   "metadata": {},
   "outputs": [],
   "source": [
    "# Load DEM\n",
    "dem1 = rasterio.open('tifs/MNT_carriere.tif')\n",
    "\n",
    "# Load slope\n",
    "slp1 = rasterio.open('tifs/MNT_carriere_slope.tif')\n",
    "\n",
    "# Load aspect \n",
    "asp1 = rasterio.open('tifs/MNT_carriere_aspect.tif')"
   ]
  },
  {
   "cell_type": "markdown",
   "id": "c15bdd72-1b8c-482a-97c6-49db33b84ba4",
   "metadata": {},
   "source": [
    "## The raster"
   ]
  },
  {
   "cell_type": "code",
   "execution_count": null,
   "id": "fbb7b426-1437-4a22-917a-672bbecd1ab0",
   "metadata": {},
   "outputs": [],
   "source": [
    "plt.figure(figsize=(15, 12))\n",
    "plt.axis('off')\n",
    "show(dem1, cmap='rainbow');"
   ]
  },
  {
   "cell_type": "markdown",
   "id": "da93315f-9fbe-414d-ae3a-9d0d2e5c89b8",
   "metadata": {},
   "source": [
    "## The histogram"
   ]
  },
  {
   "cell_type": "code",
   "execution_count": null,
   "id": "290c0b2f-f88c-4a60-b6d1-15735b31128f",
   "metadata": {},
   "outputs": [],
   "source": [
    "fig, axhist = plt.subplots(1, 1, figsize=(10, 9))\n",
    "\n",
    "show_hist(dem1, bins=50, lw=0.0, stacked=False, \n",
    "          alpha=0.3,\n",
    "          title=\"DEM Histogram\", ax=axhist)\n",
    "axhist.get_legend().remove()"
   ]
  },
  {
   "cell_type": "code",
   "execution_count": null,
   "id": "b0cf9ee3-73a8-4012-b083-c7634bf96cfc",
   "metadata": {},
   "outputs": [],
   "source": [
    " print(\"\\nDEM\\n\")\n",
    " print(dem1.profile)\n",
    " print(\"\\nSLOPE\\n\")\n",
    " print(slp1.profile)\n",
    " print(\"\\nASPECT\\n\")\n",
    " print(asp1.profile)"
   ]
  },
  {
   "cell_type": "code",
   "execution_count": null,
   "id": "5b9610fb-e93f-42db-bb7c-c3e696f0dd4b",
   "metadata": {},
   "outputs": [],
   "source": [
    "# Reading the first band (not from zero!) of the dem\n",
    "band1 = dem1.read(1).flatten()\n",
    "\n",
    "f1 = get_dln(band1)\n",
    "\n",
    "n = sum(f1)\n",
    "ff1 = []\n",
    "for i in range(len(f1)):\n",
    "    ff1.append(100*f1[i]/n)\n",
    "\n",
    "\n",
    "f_lnd(f1)"
   ]
  },
  {
   "cell_type": "code",
   "execution_count": null,
   "id": "f83371ca-b2ec-4b5c-bd7c-cb08611b762c",
   "metadata": {},
   "outputs": [],
   "source": [
    "# Reading the first band (not from zero!) of the slope\n",
    "band2 = slp1.read(1).flatten() # 2d array\n",
    "\n",
    "f2 = get_dln(band2)\n",
    "\n",
    "n2 = sum(f2)\n",
    "ff2 = []\n",
    "for i in range(len(f2)):\n",
    "    ff2.append(100*f2[i]/n2)\n",
    "\n",
    "\n",
    "f_lnd(f2)"
   ]
  },
  {
   "cell_type": "code",
   "execution_count": null,
   "id": "1cc7f884-72dc-4c32-819e-b22719aea0e1",
   "metadata": {},
   "outputs": [],
   "source": [
    "# Reading the first band (not from zero!) of the aspect\n",
    "band3 = asp1.read(1).flatten() # 2d array\n",
    "\n",
    "f3 = get_dln(band3)\n",
    "\n",
    "n3 = sum(f3)\n",
    "ff3 = []\n",
    "for i in range(len(f3)):\n",
    "    ff3.append(100*f3[i]/n3)\n",
    "\n",
    "\n",
    "f_lnd(f3)"
   ]
  },
  {
   "cell_type": "code",
   "execution_count": null,
   "id": "ddc0df6c-b7b5-43cb-ba82-cf3fccd99848",
   "metadata": {},
   "outputs": [],
   "source": [
    "plot_benford(ff1, ff2, ff3);"
   ]
  },
  {
   "cell_type": "markdown",
   "id": "c475774a-f83e-4f14-bc8a-f1d79de3c424",
   "metadata": {},
   "source": [
    "## References:\n",
    "\n",
    "**Polidori, Laurent & El Hage, Mhamad. (2019).**\n",
    "___Application de la loi de Benford au contrôle de qualité des modèles numériques de terrain. 19 - 22.___ \n",
    "\n",
    "[Application de la loi de Benford au contrôle de qualité des modèles numériques de terrain](https://www.researchgate.net/publication/331580669_Application_de_la_loi_de_Benford_au_controle_de_qualite_des_modeles_numeriques_de_terrain)*\n",
    "\n",
    "La loi de Benford fait le constat empirique d'une régularité dans la distribution statistique du premier chiffre dans de nombreuses séries de nombres (géographie, sport, économie etc.). Elle a été utilisée pour détecter des fraudes comptables ou électorales. Dans le même esprit, nous avons cherché à l'utiliser comme critère de vraisemblance pour évaluer la qualité des modèles numériques de terrain. Les métriques considérées sont l'altitude, la pente et l'ordre de Strahler.\n",
    "\n",
    "**Wikipedia Benford's lwa**\n",
    "\n",
    "https://www.wikiwand.com/en/Benford%27s_law"
   ]
  }
 ],
 "metadata": {
  "kernelspec": {
   "display_name": "Python 3",
   "language": "python",
   "name": "python3"
  },
  "language_info": {
   "codemirror_mode": {
    "name": "ipython",
    "version": 3
   },
   "file_extension": ".py",
   "mimetype": "text/x-python",
   "name": "python",
   "nbconvert_exporter": "python",
   "pygments_lexer": "ipython3",
   "version": "3.9.2"
  }
 },
 "nbformat": 4,
 "nbformat_minor": 5
}
