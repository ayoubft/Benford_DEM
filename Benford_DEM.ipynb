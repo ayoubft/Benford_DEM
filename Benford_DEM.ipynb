{
 "cells": [
  {
   "cell_type": "code",
   "execution_count": 1,
   "id": "68dc5ff9-36ed-4ad4-be39-0fde6b7e8e89",
   "metadata": {},
   "outputs": [],
   "source": [
    "import rasterio\n",
    "from LNC import get_dln, f_lnd, fdln"
   ]
  },
  {
   "cell_type": "code",
   "execution_count": 2,
   "id": "707bee62-8d77-4c35-84e2-af216cc3b3cd",
   "metadata": {},
   "outputs": [],
   "source": [
    "# Load DEM\n",
    "dem = rasterio.open('madeenah.tif')\n",
    "\n",
    "# Load aspect (slope)\n",
    "asp = rasterio.open('madeenah_aspect.tif')"
   ]
  },
  {
   "cell_type": "code",
   "execution_count": 3,
   "id": "e62d9898-4b02-44a6-b71a-2b19c379ae1e",
   "metadata": {},
   "outputs": [
    {
     "name": "stdout",
     "output_type": "stream",
     "text": [
      "\n",
      "DEM\n",
      "\n",
      "{'driver': 'GTiff', 'dtype': 'int16', 'nodata': -32767.0, 'width': 3601, 'height': 3601, 'count': 1, 'crs': CRS.from_epsg(4326), 'transform': Affine(0.0002777777777777778, 0.0, 38.99986111111111,\n",
      "       0.0, -0.0002777777777777778, 25.00013888888889), 'tiled': False, 'interleave': 'band'}\n",
      "\n",
      "ASPECT\n",
      "\n",
      "{'driver': 'GTiff', 'dtype': 'float32', 'nodata': -9999.0, 'width': 3601, 'height': 3601, 'count': 1, 'crs': CRS.from_epsg(4326), 'transform': Affine(0.0002777777777777778, 0.0, 38.99986111111111,\n",
      "       0.0, -0.0002777777777777778, 25.00013888888889), 'tiled': False, 'interleave': 'band'}\n"
     ]
    }
   ],
   "source": [
    "print(\"\\nDEM\\n\")\n",
    "print(dem.profile)\n",
    "print(\"\\nASPECT\\n\")\n",
    "print(asp.profile)"
   ]
  },
  {
   "cell_type": "code",
   "execution_count": 4,
   "id": "608f85ae-7be7-4779-8d3e-457218dc7d9f",
   "metadata": {},
   "outputs": [],
   "source": [
    "# reading the first band (not from zero!)\n",
    "band1 = dem.read(1)"
   ]
  },
  {
   "cell_type": "code",
   "execution_count": 5,
   "id": "3524f2d9-5ebb-4e60-925f-1eda45882b33",
   "metadata": {},
   "outputs": [
    {
     "data": {
      "text/plain": [
       "array([[ 443,  443,  442, ..., 1052, 1049, 1039],\n",
       "       [ 442,  443,  443, ..., 1064, 1055, 1044],\n",
       "       [ 443,  443,  443, ..., 1063, 1052, 1042],\n",
       "       ...,\n",
       "       [ 549,  558,  573, ...,  960,  959,  958],\n",
       "       [ 566,  574,  589, ...,  960,  959,  958],\n",
       "       [ 571,  584,  611, ...,  959,  958,  959]], dtype=int16)"
      ]
     },
     "execution_count": 5,
     "metadata": {},
     "output_type": "execute_result"
    }
   ],
   "source": [
    "band1"
   ]
  },
  {
   "cell_type": "code",
   "execution_count": 6,
   "id": "33a9649a-1c67-4362-bf57-14b7986b9616",
   "metadata": {},
   "outputs": [],
   "source": [
    "band1 = band1.flatten()"
   ]
  },
  {
   "cell_type": "code",
   "execution_count": 7,
   "id": "ebeb1aaa-a7c5-4cba-9bf2-9126451b743f",
   "metadata": {},
   "outputs": [],
   "source": [
    "f = get_dln(band1)"
   ]
  },
  {
   "cell_type": "code",
   "execution_count": 11,
   "id": "67f5bc3e-f248-4151-8001-dce301649329",
   "metadata": {},
   "outputs": [
    {
     "name": "stdout",
     "output_type": "stream",
     "text": [
      "digit | frequency\n",
      "    1 |   0.18\n",
      "    2 |   0.00\n",
      "    3 |   0.00\n",
      "    4 |   0.02\n",
      "    5 |   0.08\n",
      "    6 |   0.16\n",
      "    7 |   0.22\n",
      "    8 |   0.18\n",
      "    9 |   0.15\n"
     ]
    }
   ],
   "source": [
    "f_lnd(f)"
   ]
  },
  {
   "cell_type": "code",
   "execution_count": null,
   "id": "24de6f0f-6275-4b31-9282-69d6313e52b1",
   "metadata": {},
   "outputs": [],
   "source": []
  },
  {
   "cell_type": "code",
   "execution_count": 12,
   "id": "cd55f71b-2dd6-4aec-a235-2f4d7d5a93c0",
   "metadata": {},
   "outputs": [],
   "source": [
    "# reading the first band (not from zero!)\n",
    "band2 = asp.read(1) # 2d array"
   ]
  },
  {
   "cell_type": "code",
   "execution_count": 21,
   "id": "21714490-9f86-4d42-853c-eeabc2c95c40",
   "metadata": {},
   "outputs": [],
   "source": [
    "band2 = band2.flatten()"
   ]
  },
  {
   "cell_type": "code",
   "execution_count": 22,
   "id": "f83bb148-280a-4ce4-996c-0869bccb7151",
   "metadata": {},
   "outputs": [],
   "source": [
    "f2 = get_dln(band2)"
   ]
  },
  {
   "cell_type": "code",
   "execution_count": 23,
   "id": "10d7aca5-1286-4b67-a8fc-f621600b8ff8",
   "metadata": {},
   "outputs": [
    {
     "name": "stdout",
     "output_type": "stream",
     "text": [
      "digit | frequency\n",
      "    1 |   0.30\n",
      "    2 |   0.27\n",
      "    3 |   0.17\n",
      "    4 |   0.03\n",
      "    5 |   0.04\n",
      "    6 |   0.04\n",
      "    7 |   0.05\n",
      "    8 |   0.04\n",
      "    9 |   0.05\n"
     ]
    }
   ],
   "source": [
    "f_lnd(f2)"
   ]
  },
  {
   "cell_type": "code",
   "execution_count": null,
   "id": "0b301d90-66c6-4193-af7a-4981e8e55b29",
   "metadata": {},
   "outputs": [],
   "source": []
  }
 ],
 "metadata": {
  "kernelspec": {
   "display_name": "Python 3",
   "language": "python",
   "name": "python3"
  },
  "language_info": {
   "codemirror_mode": {
    "name": "ipython",
    "version": 3
   },
   "file_extension": ".py",
   "mimetype": "text/x-python",
   "name": "python",
   "nbconvert_exporter": "python",
   "pygments_lexer": "ipython3",
   "version": "3.9.2"
  }
 },
 "nbformat": 4,
 "nbformat_minor": 5
}
